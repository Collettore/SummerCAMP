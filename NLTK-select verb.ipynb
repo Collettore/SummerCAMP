{
 "cells": [
  {
   "cell_type": "code",
   "execution_count": 16,
   "metadata": {},
   "outputs": [],
   "source": [
    "import numpy as np \n",
    "import pandas as pd \n",
    "import nltk\n",
    "# nltk.download()\n",
    "from nltk.tokenize import sent_tokenize, word_tokenize, PunktSentenceTokenizer\n",
    "from nltk.corpus import stopwords\n",
    "from nltk.stem import PorterStemmer \n",
    "from nltk.corpus import state_union\n"
   ]
  },
  {
   "cell_type": "code",
   "execution_count": 17,
   "metadata": {},
   "outputs": [],
   "source": [
    "text = \"London is the biggest city in Britain and one of the biggest in the world. More than eight million people live and work there. London is one of the most important cities in the world. It is the centre for business and for tourism. In London you can find some of the best theatres, cinemas and museums. There are many beautiful old churches in London. There are about 10 thousand streets in London. Most of the streets are not very wide. There are a lot of shops in London. The main shopping centre is Oxford Street. You can buy nearly everything here. People from all over the world do shopping in Oxford Street. You can find many old and new beautiful parks in the city. The largest park in London is Hyde Park. It is one of the most popular places of Londoners on hot summer days. There are many other pleasant parks and green squares there too.\""
   ]
  },
  {
   "cell_type": "code",
   "execution_count": 18,
   "metadata": {},
   "outputs": [
    {
     "name": "stdout",
     "output_type": "stream",
     "text": [
      "[('find', 'VB'), ('buy', 'VB'), ('find', 'VB')]\n"
     ]
    }
   ],
   "source": [
    "word_tokens = word_tokenize(text)\n",
    "pos = nltk.pos_tag(word_tokens)\n",
    "selective_pos = ['VB']\n",
    "selective_pos_words = []\n",
    "for word,tag in pos:\n",
    "     if tag in selective_pos:\n",
    "         selective_pos_words.append((word,tag))\n",
    "print(selective_pos_words)"
   ]
  },
  {
   "cell_type": "code",
   "execution_count": 20,
   "metadata": {},
   "outputs": [],
   "source": [
    "text2 = \"In 1893, at the age of 33, Bates, an English professor at Wellesley College, had taken a train trip to Colorado Springs, Colorado, to teach a short summer school session at Colorado College.[5] Several of the sights on her trip inspired her, and they found their way into her poem, including the World's Columbian Exposition in Chicago, the White City with its promise of the future contained within its gleaming white buildings;[6] the wheat fields of America's heartland Kansas, through which her train was riding on July 16; and the majestic view of the Great Plains from high atop Pikes Peak. On the pinnacle of that mountain, the words of the poem started to come to her, and she wrote them down upon returning to her hotel room at the original Antlers Hotel. The poem was initially published two years later in The Congregationalist to commemorate the Fourth of July. It quickly caught the public's fancy. Amended versions were published in 1904 and 1911.[citation needed] The first known melody written for the song was sent in by Silas Pratt when the poem was published in The Congregationalist. By 1900, at least 75 different melodies had been written.[9] A hymn tune composed in 1882 by Samuel A. Ward, the organist and choir director at Grace Church, Newark, was generally considered the best music as early as 1910 and is still the popular tune today. Just as Bates had been inspired to write her poem, Ward, too, was inspired. The tune came to him while he was on a ferryboat trip from Coney Island back to his home in New York City after a leisurely summer day and he immediately wrote it down. Supposedly, he was so anxious to capture the tune in his head, he asked fellow passenger friend Harry Martin for his shirt cuff to write the tune on. He composed the tune for the old hymn O Mother Dear, Jerusalem, retitling the work Materna. Ward's music combined with Bates's poem were first published together in 1910 and titled America the Beautiful. Ward died in 1903, not knowing the national stature his music would attain. Bates was more fortunate, since the song's popularity was well established by the time of her death in 1929.[9] At various times in the more than 100 years that have elapsed since the song was written, particularly during the John F. Kennedy administration, there have been efforts to give America the Beautiful legal status either as a national hymn or as a national anthem equal to, or in place of, The Star-Spangled Banner, but so far this has not yet succeeded. Proponents prefer America the Beautiful for various reasons, saying it is easier to sing, more melodic, and more adaptable to new orchestrations while still remaining as easily recognizable as The Star-Spangled Banner. Some prefer America the Beautiful over The Star-Spangled Banner due to the latter's war-oriented imagery; others prefer The Star-Spangled Banner for the same reason. While that national dichotomy has stymied any effort at changing the tradition of the national anthem, America the Beautiful continues to be held in high esteem by a large number of Americans, and was even being considered before 1931, as a candidate to become the national anthem of the United States.[11]\""
   ]
  },
  {
   "cell_type": "code",
   "execution_count": 21,
   "metadata": {},
   "outputs": [
    {
     "name": "stdout",
     "output_type": "stream",
     "text": [
      "[('teach', 'VB'), ('come', 'VB'), ('commemorate', 'VB'), ('[', 'VB'), ('write', 'VB'), ('capture', 'VB'), ('write', 'VB'), ('attain', 'VB'), ('[', 'VB'), ('give', 'VB'), ('sing', 'VB'), ('be', 'VB'), ('become', 'VB'), ('[', 'VB')]\n"
     ]
    }
   ],
   "source": [
    "word_tokens = word_tokenize(text2)\n",
    "pos = nltk.pos_tag(word_tokens)\n",
    "selective_pos = ['VB']\n",
    "selective_pos_words = []\n",
    "for word,tag in pos:\n",
    "     if tag in selective_pos:\n",
    "         selective_pos_words.append((word,tag))\n",
    "print(selective_pos_words)"
   ]
  },
  {
   "cell_type": "code",
   "execution_count": null,
   "metadata": {},
   "outputs": [],
   "source": []
  }
 ],
 "metadata": {
  "kernelspec": {
   "display_name": "Python 3",
   "language": "python",
   "name": "python3"
  },
  "language_info": {
   "codemirror_mode": {
    "name": "ipython",
    "version": 3
   },
   "file_extension": ".py",
   "mimetype": "text/x-python",
   "name": "python",
   "nbconvert_exporter": "python",
   "pygments_lexer": "ipython3",
   "version": "3.7.3"
  }
 },
 "nbformat": 4,
 "nbformat_minor": 2
}
