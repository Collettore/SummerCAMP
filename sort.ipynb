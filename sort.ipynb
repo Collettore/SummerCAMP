{
 "cells": [
  {
   "cell_type": "code",
   "execution_count": 1,
   "metadata": {},
   "outputs": [],
   "source": [
    "lis = [1,12,-13,33,-11,2,3,7]\n",
    "lis2= [2,12,99,43,22,23,44,44,54,76,54,45]"
   ]
  },
  {
   "cell_type": "code",
   "execution_count": 2,
   "metadata": {},
   "outputs": [],
   "source": [
    "temp = 0\n",
    "temp2 = 0"
   ]
  },
  {
   "cell_type": "code",
   "execution_count": 3,
   "metadata": {},
   "outputs": [
    {
     "name": "stdout",
     "output_type": "stream",
     "text": [
      "[33, 12, 7, 3, 2, 1, -11, -13]\n"
     ]
    }
   ],
   "source": [
    "for index in range(len(lis)):\n",
    "    for i in range(len(lis)-1):\n",
    "        if lis[i] < lis[i+1]:\n",
    "            temp = lis[i]\n",
    "            lis[i] = lis[i+1]\n",
    "            lis[i+1] = temp\n",
    "print(lis)"
   ]
  },
  {
   "cell_type": "code",
   "execution_count": 4,
   "metadata": {},
   "outputs": [
    {
     "name": "stdout",
     "output_type": "stream",
     "text": [
      "[-13, -11, 1, 2, 3, 7, 12, 33]\n"
     ]
    }
   ],
   "source": [
    "for index in range(len(lis)):\n",
    "    for i in range(len(lis)-1):\n",
    "        if lis[i] > lis[i+1]:\n",
    "            temp = lis[i]\n",
    "            lis[i] = lis[i+1]\n",
    "            lis[i+1] = temp\n",
    "print(lis)"
   ]
  },
  {
   "cell_type": "code",
   "execution_count": 5,
   "metadata": {},
   "outputs": [
    {
     "name": "stdout",
     "output_type": "stream",
     "text": [
      "[99, 76, 54, 54, 45, 44, 44, 43, 23, 22, 12, 2]\n"
     ]
    }
   ],
   "source": [
    "for index in range(len(lis2)):\n",
    "    for i2 in range(len(lis2)-1):\n",
    "        if lis2[i2] < lis2[i2+1]:\n",
    "            temp2 = lis2[i2]\n",
    "            lis2[i2] = lis2[i2+1]\n",
    "            lis2[i2+1] = temp2\n",
    "print(lis2)"
   ]
  },
  {
   "cell_type": "code",
   "execution_count": 6,
   "metadata": {},
   "outputs": [
    {
     "name": "stdout",
     "output_type": "stream",
     "text": [
      "[2, 12, 22, 23, 43, 44, 44, 45, 54, 54, 76, 99]\n"
     ]
    }
   ],
   "source": [
    "for index in range(len(lis2)):\n",
    "    for i2 in range(len(lis2)-1):\n",
    "        if lis2[i2] > lis2[i2+1]:\n",
    "            temp2 = lis2[i2]\n",
    "            lis2[i2] = lis2[i2+1]\n",
    "            lis2[i2+1] = temp2\n",
    "print(lis2)"
   ]
  },
  {
   "cell_type": "code",
   "execution_count": null,
   "metadata": {},
   "outputs": [],
   "source": []
  }
 ],
 "metadata": {
  "kernelspec": {
   "display_name": "Python 3",
   "language": "python",
   "name": "python3"
  },
  "language_info": {
   "codemirror_mode": {
    "name": "ipython",
    "version": 3
   },
   "file_extension": ".py",
   "mimetype": "text/x-python",
   "name": "python",
   "nbconvert_exporter": "python",
   "pygments_lexer": "ipython3",
   "version": "3.7.3"
  }
 },
 "nbformat": 4,
 "nbformat_minor": 2
}
